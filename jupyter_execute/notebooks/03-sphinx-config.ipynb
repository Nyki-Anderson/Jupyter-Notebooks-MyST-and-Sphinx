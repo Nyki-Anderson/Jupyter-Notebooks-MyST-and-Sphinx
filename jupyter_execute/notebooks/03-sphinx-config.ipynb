{
 "cells": [
  {
   "cell_type": "markdown",
   "metadata": {},
   "source": [
    "# Configuring Sphinx to Render HTML & PDF Versions of Jupyter Notebooks\n",
    "\n",
    "```{admonition} Objectives\n",
    "The objectives for this notebook are as follows:\n",
    "\n",
    "- Integrate MyST Markdown and Sphinx documentation tools to produce a beautifully rendered HTML page on GitHub pages as well as a nicely formatted LaTeX-generated PDF.\n",
    "- Understand how to properly configure and add metadata to the document as a whole as well as at the notebook-level.\n",
    "- Begin to customize the entire pipeline so that it is both automated and efficient.\n",
    "```\n",
    "\n",
    "## Prerequisites\n",
    "\n",
    "It is highly recommended that you use the `conda` environment scripts found in the `scripts/` folder. They can be run from the root directory like this:\n",
    "\n",
    "```shell\n",
    "chmod -R 755 scripts/\n",
    "./scripts/02-build-env.sh <PATH_TO_ROOT>\n",
    "```\n",
    "\n",
    "```{admonition} Note\n",
    "Note that the `<PATH_TO_ROOT>` is passed here as an argument to the script, therefore it must be absolute. You can find this variable by simple typing `pwd` from the root directory of the project.\n",
    "```\n",
    "\n",
    "Close all terminals and start a fresh session. To be certain that the environment you just built is your active `conda` environment:\n",
    "\n",
    "```shell\n",
    "conda activate jupyter\n",
    "```\n",
    "\n",
    "You can now navigate to your project root folder and issue the command to open with VS Code:\n",
    "\n",
    "```shell\n",
    "code Jupyter-Notebooks-MyST-and-Sphinx/\n",
    "```\n",
    "\n",
    "A fresh instance of your project will open in VS Code. Now enter the command pallet `CMD-Shift-P` and select `Python: Select Interpreter`. Choose the version with the name of your `conda` environment, it should be named `jupyter`. \n",
    "\n",
    "Next create a `docs/` folder in the root directory and inside of it, create a `notebooks/` folder. This will be where we keep all of our notebooks. \n",
    "\n",
    "Start your first Jupyter notebook by creating a file with the extension `.ipynb` and open that file. Create a new Markdown cell and type some dummy info. We will need content to test our configuration of Sphinx and the other tools.\n",
    "\n",
    "Now we can begin the deep-dive into the Sphinx and MyST-NB configuration process. \n",
    "\n",
    "## Getting Started with Sphinx\n",
    "\n",
    "```{admonition} Documentation\n",
    "For the full Sphinx Documentation visit[ sphinx-doc.org](https://www.sphinx-doc.org/en/master/index.html). There are a lot of options... Sphinx is highly complex so I have tried to distill it down in these notebooks for you. Still, the documentation will provide all configuration options available for a more custom experience.\n",
    "```\n",
    "\n",
    "I used a wonderful OBM Research Group tutorial [^1] to configure most of Sphinx, though I tried my hand manually and had my fair share of trial and error.\n",
    "\n",
    "[^1]: Tutorial: [Sphinx environment with Conda](https://obm.physics.metu.edu.tr/node/65)"
   ]
  }
 ],
 "metadata": {
  "kernelspec": {
   "display_name": "jupyter",
   "language": "python",
   "name": "python3"
  },
  "language_info": {
   "name": "python",
   "version": "3.12.1"
  }
 },
 "nbformat": 4,
 "nbformat_minor": 2
}