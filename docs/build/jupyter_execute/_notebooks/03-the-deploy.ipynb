{
 "cells": [
  {
   "cell_type": "markdown",
   "metadata": {},
   "source": [
    "# The Deployment: Publishing Our Work in its Finest Format\n",
    "\n",
    "The purpose of this whole venture was to produce professional quality deliverables that let the content speak for itself. In this chapter, we will introduce a few of the options for doing so --for free-- including publishing our static documentation site on [GitHub Pages](https://pages.github.com/) via three methods: (1) using the `ghp-import` command at the command line (which was the only way I got working so far), (2) [Actions and Workflows](https://docs.github.com/en/actions), and (3) from a branch. As well as a third method which involves publishing through your GitHub repository to the [Read the Docs](https://docs.readthedocs.io/en/stable/) client. \n",
    "\n",
    "```{admonition} Objectives\n",
    "This chapter is due to wrap up the main purpose of the project, which was to share our documentation and ideas with a greater audience. To that aim, we will:\n",
    "\n",
    "- Finalize any content we wish to publish and determine the format(s) we are confident will reach the broadest audience or satisfy whatever deliverables we might have.\n",
    "- Produce both a collection of linkable static web scripts as well as a LaTeX-rendered PDF printout worthy of professional scrutiny.\n",
    "- Determine which methods of distribution work, which are more difficult or situation-biased, and which fit best with our current workflow.\n",
    "- Clear up any remaining configuration errors and answer lingering examples of broken code or functionality.\n",
    "```"
   ]
  }
 ],
 "metadata": {
  "kernelspec": {
   "display_name": "jupyter",
   "language": "python",
   "name": "python3"
  },
  "language_info": {
   "name": "python",
   "version": "3.12.1"
  }
 },
 "nbformat": 4,
 "nbformat_minor": 2
}