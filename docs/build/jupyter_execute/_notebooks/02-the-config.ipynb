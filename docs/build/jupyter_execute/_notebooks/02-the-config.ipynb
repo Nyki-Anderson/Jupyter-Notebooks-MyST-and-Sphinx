{
 "cells": [
  {
   "cell_type": "markdown",
   "metadata": {},
   "source": [
    "# The Configuration: Integrating Three Tools into One"
   ]
  }
 ],
 "metadata": {
  "kernelspec": {
   "display_name": "jupyter",
   "language": "python",
   "name": "python3"
  },
  "language_info": {
   "name": "python",
   "version": "3.12.1"
  }
 },
 "nbformat": 4,
 "nbformat_minor": 2
}