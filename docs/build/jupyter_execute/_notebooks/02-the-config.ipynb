{
 "cells": [
  {
   "cell_type": "markdown",
   "metadata": {},
   "source": [
    "# The Configuration: Integrating Three Tools into One\n",
    "\n",
    "We've arrived at the most intense and potentially overwhelming part of the whole project because this is where we decide what is important in our builds and what is possible with the tools we have selected. Most of this chapter will focus on functional configuration and leave the design elements to the reader. The most important thing about configuration is knowing if we're doing it right and change is being affected by our efforts. Luckily, I've made a lot of errors in this endeavor already so you won't have to.\n",
    "\n",
    "```{admonition} Objectives\n",
    "This chapter brings all three tools together into one entity that can help us achieve our publication goals. Let's manifest this pipeline in the following ways:\n",
    "\n",
    "- Correctly and efficiently combine the configuration directives and their respective file/folder assignments. \n",
    "- Achieve the desired amount of control over the export parameters as we can without challenging the capabilities of the programs themselves.\n",
    "- Produce local versions of the static web pages and assets required to deliver the content over the Internet and have a running version of the PDFLaTeX script.\n",
    "- Design the aesthetic of our publications such that they are appealing yet do not discredit the work within them.\n",
    "```"
   ]
  }
 ],
 "metadata": {
  "kernelspec": {
   "display_name": "jupyter",
   "language": "python",
   "name": "python3"
  },
  "language_info": {
   "name": "python",
   "version": "3.12.1"
  }
 },
 "nbformat": 4,
 "nbformat_minor": 2
}